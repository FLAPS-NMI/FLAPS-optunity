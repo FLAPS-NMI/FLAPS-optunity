{
 "metadata": {
  "name": "",
  "signature": "sha256:50d8313056d49d628417ed8fe17c4adce2595df5f5c525d31e0fcc87a59b1fb5"
 },
 "nbformat": 3,
 "nbformat_minor": 0,
 "worksheets": [
  {
   "cells": [
    {
     "cell_type": "heading",
     "level": 1,
     "metadata": {},
     "source": [
      "sklearn: automated learning method selection and tuning"
     ]
    },
    {
     "cell_type": "markdown",
     "metadata": {},
     "source": [
      "In this tutorial we will show how to use Optunity in combination with sklearn to classify the digit recognition data set available in sklearn. The cool part is that we will use Optunity to choose the best approach from a set of available learning algorithms and optimize hyperparameters in one go. We will use the following learning algorithms:\n",
      "\n",
      "* k-nearest neighbour\n",
      "\n",
      "* SVM\n",
      "\n",
      "* Naive Bayes\n",
      "\n",
      "* Random Forest\n",
      "\n",
      "For simplicity, we will focus on a binary classification task, namely digit 3 versus digit 9. We start with the necessary imports and create the data set."
     ]
    },
    {
     "cell_type": "code",
     "collapsed": false,
     "input": [
      "import optunity\n",
      "import optunity.metrics\n",
      "import numpy as np\n",
      "\n",
      "# k nearest neighbours\n",
      "from sklearn.neighbors import KNeighborsClassifier\n",
      "# support vector machine classifier\n",
      "from sklearn.svm import SVC \n",
      "# Naive Bayes\n",
      "from sklearn.naive_bayes import GaussianNB \n",
      "# Random Forest\n",
      "from sklearn.ensemble import RandomForestClassifier \n",
      "\n",
      "from sklearn.datasets import load_digits\n",
      "digits = load_digits()\n",
      "n = digits.data.shape[0]\n",
      "\n",
      "positive_digit = 3\n",
      "negative_digit = 9\n",
      "\n",
      "positive_idx = [i for i in range(n) if digits.target[i] == positive_digit]\n",
      "negative_idx = [i for i in range(n) if digits.target[i] == negative_digit]\n",
      "\n",
      "# add some noise to the data to make it a little challenging\n",
      "original_data = digits.data[positive_idx + negative_idx, ...]\n",
      "data = original_data + 5 * np.random.randn(original_data.shape[0], original_data.shape[1])\n",
      "labels = [True] * len(positive_idx) + [False] * len(negative_idx)"
     ],
     "language": "python",
     "metadata": {},
     "outputs": [],
     "prompt_number": 1
    },
    {
     "cell_type": "markdown",
     "metadata": {},
     "source": [
      "For the SVM model we will let Optunity optimize the kernel family, choosing from linear, polynomial and RBF. We start by creating a convenience functions for SVM training that handles this:"
     ]
    },
    {
     "cell_type": "code",
     "collapsed": false,
     "input": [
      "def train_svm(data, labels, kernel, C, gamma, degree, coef0):\n",
      "    \"\"\"A generic SVM training function, with arguments based on the chosen kernel.\"\"\"\n",
      "    if kernel == 'linear':\n",
      "        model = SVC(kernel=kernel, C=C)\n",
      "    elif kernel == 'poly':\n",
      "        model = SVC(kernel=kernel, C=C, degree=degree, coef0=coef0)\n",
      "    elif kernel == 'rbf':\n",
      "        model = SVC(kernel=kernel, C=C, gamma=gamma)\n",
      "    else: \n",
      "        raise ArgumentError(\"Unknown kernel function: %s\" % kernel)\n",
      "    model.fit(data, labels)\n",
      "    return model"
     ],
     "language": "python",
     "metadata": {},
     "outputs": [],
     "prompt_number": 2
    },
    {
     "cell_type": "markdown",
     "metadata": {},
     "source": [
      "Every learning algorithm has its own hyperparameters:\n",
      "\n",
      "* k-NN: $1 < n\\_neighbors < 5$ the number of neighbours to use\n",
      "\n",
      "* SVM: kernel family and misclassification penalty, we will make the penalty contingent on the family. Per kernel family, we have different hyperparameters:\n",
      "\n",
      "    * polynomial kernel: $0 < C < 50$, $2 < degree < 5$ and $0 < coef0 < 1$\n",
      "    * linear kernel: $0 < C < 2$,\n",
      "    * RBF kernel: $0 < C < 10$ and $0 < gamma < 1$\n",
      "    \n",
      "* naive Bayes: no hyperparameters\n",
      "\n",
      "* random forest: \n",
      "\n",
      "    * $10 < n\\_estimators < 30$: number of trees in the forest\n",
      "    * $5 < max\\_features < 20$: number of features to consider for each split\n",
      "    \n",
      "This translates into the following search space:"
     ]
    },
    {
     "cell_type": "code",
     "collapsed": false,
     "input": [
      "search = {'algorithm': {'k-nn': {'n_neighbors': [1, 5]},\n",
      "                        'SVM': {'kernel': {'linear': {'C': [0, 2]},\n",
      "                                           'rbf': {'gamma': [0, 1], 'C': [0, 10]},\n",
      "                                           'poly': {'degree': [2, 5], 'C': [0, 50], 'coef0': [0, 1]}\n",
      "                                           }\n",
      "                                },\n",
      "                        'naive-bayes': None,\n",
      "                        'random-forest': {'n_estimators': [10, 30],\n",
      "                                          'max_features': [5, 20]}\n",
      "                        }\n",
      "         }"
     ],
     "language": "python",
     "metadata": {},
     "outputs": [],
     "prompt_number": 3
    },
    {
     "cell_type": "markdown",
     "metadata": {},
     "source": [
      "We also need an objective function that can properly orchestrate everything. We will choose the best model based on area under the ROC curve in 5-fold cross-validation."
     ]
    },
    {
     "cell_type": "code",
     "collapsed": false,
     "input": [
      "@optunity.cross_validated(x=data, y=labels, num_folds=5)\n",
      "def performance(x_train, y_train, x_test, y_test,\n",
      "                algorithm, n_neighbors=None, n_estimators=None, max_features=None,\n",
      "                kernel=None, C=None, gamma=None, degree=None, coef0=None):\n",
      "    # fit the model\n",
      "    if algorithm == 'k-nn':\n",
      "        model = KNeighborsClassifier(n_neighbors=int(n_neighbors))\n",
      "        model.fit(x_train, y_train)\n",
      "    elif algorithm == 'SVM':\n",
      "        model = train_svm(x_train, y_train, kernel, C, gamma, degree, coef0)\n",
      "    elif algorithm == 'naive-bayes':\n",
      "        model = GaussianNB()\n",
      "        model.fit(x_train, y_train)\n",
      "    elif algorithm == 'random-forest':\n",
      "        model = RandomForestClassifier(n_estimators=int(n_estimators),\n",
      "                                       max_features=int(max_features))\n",
      "        model.fit(x_train, y_train)\n",
      "    else:\n",
      "        raise ArgumentError('Unknown algorithm: %s' % algorithm)\n",
      "\n",
      "    # predict the test set\n",
      "    if algorithm == 'SVM':\n",
      "        predictions = model.decision_function(x_test)\n",
      "    else:\n",
      "        predictions = model.predict_proba(x_test)[:, 1]\n",
      "\n",
      "    return optunity.metrics.roc_auc(y_test, predictions, positive=True)"
     ],
     "language": "python",
     "metadata": {},
     "outputs": [],
     "prompt_number": 4
    },
    {
     "cell_type": "markdown",
     "metadata": {},
     "source": [
      "Lets do a simple test run of this fancy objective function."
     ]
    },
    {
     "cell_type": "code",
     "collapsed": false,
     "input": [
      "performance(algorithm='k-nn', n_neighbors=3)"
     ],
     "language": "python",
     "metadata": {},
     "outputs": [
      {
       "metadata": {},
       "output_type": "pyout",
       "prompt_number": 5,
       "text": [
        "0.9547920006472639"
       ]
      }
     ],
     "prompt_number": 5
    },
    {
     "cell_type": "markdown",
     "metadata": {},
     "source": [
      "Seems okay! Now we can let Optunity do its magic with a budget of 300 tries."
     ]
    },
    {
     "cell_type": "code",
     "collapsed": false,
     "input": [
      "optimal_configuration, info, _ = optunity.maximize_structured(performance, \n",
      "                                                              search_space=search, \n",
      "                                                              num_evals=300)\n",
      "print(optimal_configuration)\n",
      "print(info.optimum)"
     ],
     "language": "python",
     "metadata": {},
     "outputs": [
      {
       "output_type": "stream",
       "stream": "stdout",
       "text": [
        "{'kernel': 'poly', 'C': 38.5498046875, 'algorithm': 'SVM', 'degree': 3.88525390625, 'n_neighbors': None, 'n_estimators': None, 'max_features': None, 'coef0': 0.71826171875, 'gamma': None}\n",
        "0.979302949566\n"
       ]
      }
     ],
     "prompt_number": 17
    },
    {
     "cell_type": "markdown",
     "metadata": {},
     "source": [
      "Finally, lets make the results a little bit more readable. All dictionary items in `optimal_configuration` with value `None` can be removed."
     ]
    },
    {
     "cell_type": "code",
     "collapsed": false,
     "input": [
      "solution = dict([(k, v) for k, v in optimal_configuration.items() if v is not None])\n",
      "print('Solution\\n========')\n",
      "print(\"\\n\".join(map(lambda x: \"%s \\t %s\" % (x[0], str(x[1])), solution.items())))"
     ],
     "language": "python",
     "metadata": {},
     "outputs": [
      {
       "output_type": "stream",
       "stream": "stdout",
       "text": [
        "Solution\n",
        "========\n",
        "kernel \t poly\n",
        "C \t 38.5498046875\n",
        "coef0 \t 0.71826171875\n",
        "degree \t 3.88525390625\n",
        "algorithm \t SVM\n"
       ]
      }
     ],
     "prompt_number": 18
    }
   ],
   "metadata": {}
  }
 ]
}