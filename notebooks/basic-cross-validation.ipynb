{
 "cells": [
  {
   "cell_type": "markdown",
   "metadata": {},
   "source": [
    "# Basic: cross-validation"
   ]
  },
  {
   "cell_type": "markdown",
   "metadata": {},
   "source": [
    "This notebook explores the main elements of Optunity's cross-validation facilities, including:\n",
    "\n",
    "* standard cross-validation\n",
    "* using strata and clusters while constructing folds\n",
    "* using different aggregators\n",
    "\n",
    "We recommend perusing the <a href=\"http://docs.optunity.net/user/cross_validation.html\">related documentation</a> for more details.\n",
    "\n",
    "Nested cross-validation is available as a separate notebook."
   ]
  },
  {
   "cell_type": "code",
   "execution_count": 2,
   "metadata": {
    "collapsed": false
   },
   "outputs": [],
   "source": [
    "import optunity\n",
    "import optunity.cross_validation"
   ]
  },
  {
   "cell_type": "markdown",
   "metadata": {},
   "source": [
    "We start by generating some toy data containing 6 instances which we will partition into folds."
   ]
  },
  {
   "cell_type": "code",
   "execution_count": 2,
   "metadata": {
    "collapsed": false
   },
   "outputs": [],
   "source": [
    "data = list(range(6))\n",
    "labels = [True] * 3 + [False] * 3"
   ]
  },
  {
   "cell_type": "markdown",
   "metadata": {},
   "source": [
    "## Standard cross-validation <a id=standard></a>"
   ]
  },
  {
   "cell_type": "markdown",
   "metadata": {},
   "source": [
    "Each function to be decorated with cross-validation functionality must accept the following arguments:\n",
    "- x_train: training data\n",
    "- x_test: test data\n",
    "- y_train: training labels (required only when y is specified in the cross-validation decorator)\n",
    "- y_test: test labels (required only when y is specified in the cross-validation decorator)\n",
    "\n",
    "These arguments will be set implicitly by the cross-validation decorator to match the right folds. Any remaining arguments to the decorated function remain as free parameters that must be set later on."
   ]
  },
  {
   "cell_type": "markdown",
   "metadata": {},
   "source": [
    "Lets start with the basics and look at Optunity's cross-validation in action. We use an objective function that simply prints out the train and test data in every split to see what's going on."
   ]
  },
  {
   "cell_type": "code",
   "execution_count": 3,
   "metadata": {
    "collapsed": false
   },
   "outputs": [],
   "source": [
    "def f(x_train, y_train, x_test, y_test):\n",
    "    print(\"\")\n",
    "    print(\"train data:\\t\" + str(x_train) + \"\\t train labels:\\t\" + str(y_train))\n",
    "    print(\"test data:\\t\" + str(x_test) + \"\\t test labels:\\t\" + str(y_test))\n",
    "    return 0.0"
   ]
  },
  {
   "cell_type": "markdown",
   "metadata": {},
   "source": [
    "We start with 2 folds, which leads to equally sized train and test partitions."
   ]
  },
  {
   "cell_type": "code",
   "execution_count": 4,
   "metadata": {
    "collapsed": false
   },
   "outputs": [
    {
     "name": "stdout",
     "output_type": "stream",
     "text": [
      "using 2 folds\n",
      "\n",
      "train data:\t[4, 2, 0]\t train labels:\t[False, True, True]\n",
      "test data:\t[3, 1, 5]\t test labels:\t[False, True, False]\n",
      "\n",
      "train data:\t[3, 1, 5]\t train labels:\t[False, True, False]\n",
      "test data:\t[4, 2, 0]\t test labels:\t[False, True, True]\n"
     ]
    },
    {
     "data": {
      "text/plain": [
       "0.0"
      ]
     },
     "execution_count": 4,
     "metadata": {},
     "output_type": "execute_result"
    }
   ],
   "source": [
    "f_2folds = optunity.cross_validated(x=data, y=labels, num_folds=2)(f)\n",
    "print(\"using 2 folds\")\n",
    "f_2folds()"
   ]
  },
  {
   "cell_type": "code",
   "execution_count": 5,
   "metadata": {
    "collapsed": false
   },
   "outputs": [],
   "source": [
    "# f_2folds as defined above would typically be written using decorator syntax as follows\n",
    "# we don't do that in these examples so we can reuse the toy objective function\n",
    "\n",
    "@optunity.cross_validated(x=data, y=labels, num_folds=2)\n",
    "def f_2folds(x_train, y_train, x_test, y_test):\n",
    "    print(\"\")\n",
    "    print(\"train data:\\t\" + str(x_train) + \"\\t train labels:\\t\" + str(y_train))\n",
    "    print(\"test data:\\t\" + str(x_test) + \"\\t test labels:\\t\" + str(y_test))\n",
    "    return 0.0"
   ]
  },
  {
   "cell_type": "markdown",
   "metadata": {},
   "source": [
    "If we use three folds instead of 2, we get 3 iterations in which the training set is twice the size of the test set."
   ]
  },
  {
   "cell_type": "code",
   "execution_count": 6,
   "metadata": {
    "collapsed": false
   },
   "outputs": [
    {
     "name": "stdout",
     "output_type": "stream",
     "text": [
      "using 3 folds\n",
      "\n",
      "train data:\t[2, 1, 3, 0]\t train labels:\t[True, True, False, True]\n",
      "test data:\t[5, 4]\t test labels:\t[False, False]\n",
      "\n",
      "train data:\t[5, 4, 3, 0]\t train labels:\t[False, False, False, True]\n",
      "test data:\t[2, 1]\t test labels:\t[True, True]\n",
      "\n",
      "train data:\t[5, 4, 2, 1]\t train labels:\t[False, False, True, True]\n",
      "test data:\t[3, 0]\t test labels:\t[False, True]\n"
     ]
    },
    {
     "data": {
      "text/plain": [
       "0.0"
      ]
     },
     "execution_count": 6,
     "metadata": {},
     "output_type": "execute_result"
    }
   ],
   "source": [
    "f_3folds = optunity.cross_validated(x=data, y=labels, num_folds=3)(f)\n",
    "print(\"using 3 folds\")\n",
    "f_3folds()"
   ]
  },
  {
   "cell_type": "markdown",
   "metadata": {},
   "source": [
    "If we do two iterations of 3-fold cross-validation (denoted by 2x3 fold), two sets of folds are generated and evaluated."
   ]
  },
  {
   "cell_type": "code",
   "execution_count": 7,
   "metadata": {
    "collapsed": false
   },
   "outputs": [
    {
     "name": "stdout",
     "output_type": "stream",
     "text": [
      "using 2x3 folds\n",
      "\n",
      "train data:\t[4, 1, 5, 3]\t train labels:\t[False, True, False, False]\n",
      "test data:\t[0, 2]\t test labels:\t[True, True]\n",
      "\n",
      "train data:\t[0, 2, 5, 3]\t train labels:\t[True, True, False, False]\n",
      "test data:\t[4, 1]\t test labels:\t[False, True]\n",
      "\n",
      "train data:\t[0, 2, 4, 1]\t train labels:\t[True, True, False, True]\n",
      "test data:\t[5, 3]\t test labels:\t[False, False]\n",
      "\n",
      "train data:\t[0, 2, 1, 4]\t train labels:\t[True, True, True, False]\n",
      "test data:\t[5, 3]\t test labels:\t[False, False]\n",
      "\n",
      "train data:\t[5, 3, 1, 4]\t train labels:\t[False, False, True, False]\n",
      "test data:\t[0, 2]\t test labels:\t[True, True]\n",
      "\n",
      "train data:\t[5, 3, 0, 2]\t train labels:\t[False, False, True, True]\n",
      "test data:\t[1, 4]\t test labels:\t[True, False]\n"
     ]
    },
    {
     "data": {
      "text/plain": [
       "0.0"
      ]
     },
     "execution_count": 7,
     "metadata": {},
     "output_type": "execute_result"
    }
   ],
   "source": [
    "f_2x3folds = optunity.cross_validated(x=data, y=labels, num_folds=3, num_iter=2)(f)\n",
    "print(\"using 2x3 folds\")\n",
    "f_2x3folds()"
   ]
  },
  {
   "cell_type": "markdown",
   "metadata": {},
   "source": [
    "## Using strata and clusters<a id=strata-clusters></a>"
   ]
  },
  {
   "cell_type": "markdown",
   "metadata": {},
   "source": [
    "Strata are defined as sets of instances that should be spread out across folds as much as possible (e.g. stratify patients by age). Clusters are sets of instances that must be put in a single fold (e.g. cluster measurements of the same patient).\n",
    "\n",
    "Optunity allows you to specify strata and/or clusters that must be accounted for while construct cross-validation folds. Not all instances have to belong to a stratum or clusters."
   ]
  },
  {
   "cell_type": "markdown",
   "metadata": {},
   "source": [
    "#### Strata"
   ]
  },
  {
   "cell_type": "markdown",
   "metadata": {},
   "source": [
    "We start by illustrating strata. Strata are specified as a list of lists of instances indices. Each list defines one stratum. We will reuse the toy data and objective function specified above. We will create 2 strata with 2 instances each. These instances will be spread across folds. We create two strata: $\\{0, 1\\}$ and $\\{2, 3\\}$."
   ]
  },
  {
   "cell_type": "code",
   "execution_count": 8,
   "metadata": {
    "collapsed": false
   },
   "outputs": [
    {
     "name": "stdout",
     "output_type": "stream",
     "text": [
      "\n",
      "train data:\t[0, 4, 2, 5]\t train labels:\t[True, False, True, False]\n",
      "test data:\t[1, 3]\t test labels:\t[True, False]\n",
      "\n",
      "train data:\t[1, 3, 2, 5]\t train labels:\t[True, False, True, False]\n",
      "test data:\t[0, 4]\t test labels:\t[True, False]\n",
      "\n",
      "train data:\t[1, 3, 0, 4]\t train labels:\t[True, False, True, False]\n",
      "test data:\t[2, 5]\t test labels:\t[True, False]\n"
     ]
    },
    {
     "data": {
      "text/plain": [
       "0.0"
      ]
     },
     "execution_count": 8,
     "metadata": {},
     "output_type": "execute_result"
    }
   ],
   "source": [
    "strata = [[0, 1], [2, 3]]\n",
    "f_stratified = optunity.cross_validated(x=data, y=labels, strata=strata, num_folds=3)(f)\n",
    "f_stratified()"
   ]
  },
  {
   "cell_type": "markdown",
   "metadata": {},
   "source": [
    "#### Clusters"
   ]
  },
  {
   "cell_type": "markdown",
   "metadata": {},
   "source": [
    "Clusters work similarly, except that now instances within a cluster are guaranteed to be placed within a single fold. The way to specify clusters is identical to strata. We create two clusters: $\\{0, 1\\}$ and $\\{2, 3\\}$. These pairs will always occur in a single fold."
   ]
  },
  {
   "cell_type": "code",
   "execution_count": 9,
   "metadata": {
    "collapsed": false
   },
   "outputs": [
    {
     "name": "stdout",
     "output_type": "stream",
     "text": [
      "\n",
      "train data:\t[0, 1, 2, 3]\t train labels:\t[True, True, True, False]\n",
      "test data:\t[4, 5]\t test labels:\t[False, False]\n",
      "\n",
      "train data:\t[4, 5, 2, 3]\t train labels:\t[False, False, True, False]\n",
      "test data:\t[0, 1]\t test labels:\t[True, True]\n",
      "\n",
      "train data:\t[4, 5, 0, 1]\t train labels:\t[False, False, True, True]\n",
      "test data:\t[2, 3]\t test labels:\t[True, False]\n"
     ]
    },
    {
     "data": {
      "text/plain": [
       "0.0"
      ]
     },
     "execution_count": 9,
     "metadata": {},
     "output_type": "execute_result"
    }
   ],
   "source": [
    "clusters = [[0, 1], [2, 3]]\n",
    "f_clustered = optunity.cross_validated(x=data, y=labels, clusters=clusters, num_folds=3)(f)\n",
    "f_clustered()"
   ]
  },
  {
   "cell_type": "markdown",
   "metadata": {},
   "source": [
    "#### Strata and clusters"
   ]
  },
  {
   "cell_type": "markdown",
   "metadata": {},
   "source": [
    "Strata and clusters can be used together. Lets say we have the following configuration:\n",
    "    \n",
    "- 1 stratum: $\\{0, 1, 2\\}$\n",
    "- 2 clusters: $\\{0, 3\\}$, $\\{4, 5\\}$\n",
    "\n",
    "In this particular example, instances 1 and 2 will inevitably end up in a single fold, even though they are part of one stratum. This happens because the total data set has size 6, and 4 instances are already in clusters."
   ]
  },
  {
   "cell_type": "code",
   "execution_count": 10,
   "metadata": {
    "collapsed": false
   },
   "outputs": [
    {
     "name": "stdout",
     "output_type": "stream",
     "text": [
      "\n",
      "train data:\t[4, 5, 0, 3]\t train labels:\t[False, False, True, False]\n",
      "test data:\t[1, 2]\t test labels:\t[True, True]\n",
      "\n",
      "train data:\t[1, 2, 0, 3]\t train labels:\t[True, True, True, False]\n",
      "test data:\t[4, 5]\t test labels:\t[False, False]\n",
      "\n",
      "train data:\t[1, 2, 4, 5]\t train labels:\t[True, True, False, False]\n",
      "test data:\t[0, 3]\t test labels:\t[True, False]\n"
     ]
    },
    {
     "data": {
      "text/plain": [
       "0.0"
      ]
     },
     "execution_count": 10,
     "metadata": {},
     "output_type": "execute_result"
    }
   ],
   "source": [
    "strata = [[0, 1, 2]]\n",
    "clusters = [[0, 3], [4, 5]]\n",
    "f_strata_clustered = optunity.cross_validated(x=data, y=labels, clusters=clusters, strata=strata, num_folds=3)(f)\n",
    "f_strata_clustered()"
   ]
  },
  {
   "cell_type": "markdown",
   "metadata": {},
   "source": [
    "## Aggregators <a id=aggregators></a>"
   ]
  },
  {
   "cell_type": "markdown",
   "metadata": {},
   "source": [
    "Aggregators are used to combine the scores per fold into a single result. The default approach used in cross-validation is to take the mean of all scores. In some cases, we might be interested in worst-case or best-case performance, the spread, ...\n",
    "\n",
    "Opunity allows passing a custom callable to be used as aggregator. "
   ]
  },
  {
   "cell_type": "markdown",
   "metadata": {},
   "source": [
    "The default aggregation in Optunity is to compute the mean across folds."
   ]
  },
  {
   "cell_type": "code",
   "execution_count": 11,
   "metadata": {
    "collapsed": false
   },
   "outputs": [
    {
     "name": "stdout",
     "output_type": "stream",
     "text": [
      "4\n",
      "1\n",
      "2\n"
     ]
    },
    {
     "data": {
      "text/plain": [
       "2.3333333333333335"
      ]
     },
     "execution_count": 11,
     "metadata": {},
     "output_type": "execute_result"
    }
   ],
   "source": [
    "@optunity.cross_validated(x=data, num_folds=3)\n",
    "def f(x_train, x_test):\n",
    "    result = x_test[0]\n",
    "    print(result)\n",
    "    return result\n",
    "\n",
    "f(1)"
   ]
  },
  {
   "cell_type": "markdown",
   "metadata": {},
   "source": [
    "This can be replaced by any function, e.g. min or max."
   ]
  },
  {
   "cell_type": "code",
   "execution_count": 12,
   "metadata": {
    "collapsed": false
   },
   "outputs": [
    {
     "name": "stdout",
     "output_type": "stream",
     "text": [
      "2\n",
      "5\n",
      "1\n"
     ]
    },
    {
     "data": {
      "text/plain": [
       "5"
      ]
     },
     "execution_count": 12,
     "metadata": {},
     "output_type": "execute_result"
    }
   ],
   "source": [
    "@optunity.cross_validated(x=data, num_folds=3, aggregator=max)\n",
    "def fmax(x_train, x_test):\n",
    "    result = x_test[0]\n",
    "    print(result)\n",
    "    return result\n",
    "\n",
    "fmax(1)"
   ]
  },
  {
   "cell_type": "code",
   "execution_count": 13,
   "metadata": {
    "collapsed": false
   },
   "outputs": [
    {
     "name": "stdout",
     "output_type": "stream",
     "text": [
      "3\n",
      "4\n",
      "5\n"
     ]
    },
    {
     "data": {
      "text/plain": [
       "3"
      ]
     },
     "execution_count": 13,
     "metadata": {},
     "output_type": "execute_result"
    }
   ],
   "source": [
    "@optunity.cross_validated(x=data, num_folds=3, aggregator=min)\n",
    "def fmin(x_train, x_test):\n",
    "    result = x_test[0]\n",
    "    print(result)\n",
    "    return result\n",
    "\n",
    "fmin(1)"
   ]
  },
  {
   "cell_type": "markdown",
   "metadata": {},
   "source": [
    "#### Retaining intermediate results"
   ]
  },
  {
   "cell_type": "markdown",
   "metadata": {},
   "source": [
    "Often, it may be useful to retain all intermediate results, not just the final aggregated data. This is made possible via `optunity.cross_validation.mean_and_list` aggregator. This aggregator computes the mean for internal use in cross-validation, but also returns a list of lists containing the full evaluation results."
   ]
  },
  {
   "cell_type": "code",
   "execution_count": 14,
   "metadata": {
    "collapsed": false
   },
   "outputs": [
    {
     "name": "stdout",
     "output_type": "stream",
     "text": [
      "2.33333333333\n",
      "[0.0, 2.0, 5.0]\n"
     ]
    }
   ],
   "source": [
    "@optunity.cross_validated(x=data, num_folds=3,\n",
    "                          aggregator=optunity.cross_validation.mean_and_list)\n",
    "def f_full(x_train, x_test, coeff):\n",
    "    return x_test[0] * coeff\n",
    "\n",
    "# evaluate f\n",
    "mean_score, all_scores = f_full(1.0)\n",
    "print(mean_score)\n",
    "print(all_scores)\n"
   ]
  },
  {
   "cell_type": "markdown",
   "metadata": {},
   "source": [
    "Note that a cross-validation based on the `mean_and_list` aggregator essentially returns a tuple of results. If the result is iterable, all solvers in Optunity use the first element as the objective function value. You can let the cross-validation procedure return other useful statistics too, which you can access from the solver trace."
   ]
  },
  {
   "cell_type": "code",
   "execution_count": 15,
   "metadata": {
    "collapsed": false
   },
   "outputs": [
    {
     "name": "stdout",
     "output_type": "stream",
     "text": [
      "{'coeff': 0.15771484375}\n",
      "call log\n",
      "0.34521484375\t\t(0.8055013020833334, [0.0, 0.6904296875, 1.72607421875])\n",
      "0.47021484375\t\t(1.09716796875, [0.0, 0.9404296875, 2.35107421875])\n",
      "0.97021484375\t\t(2.2638346354166665, [0.0, 1.9404296875, 4.85107421875])\n",
      "0.72021484375\t\t(1.6805013020833333, [0.0, 1.4404296875, 3.60107421875])\n",
      "0.22021484375\t\t(0.5138346354166666, [0.0, 0.4404296875, 1.10107421875])\n",
      "0.15771484375\t\t(0.3680013020833333, [0.0, 0.3154296875, 0.78857421875])\n",
      "0.65771484375\t\t(1.53466796875, [0.0, 1.3154296875, 3.28857421875])\n",
      "0.90771484375\t\t(2.1180013020833335, [0.0, 1.8154296875, 4.53857421875])\n",
      "0.40771484375\t\t(0.9513346354166666, [0.0, 0.8154296875, 2.03857421875])\n",
      "0.28271484375\t\t(0.65966796875, [0.0, 0.5654296875, 1.41357421875])\n"
     ]
    }
   ],
   "source": [
    "opt_coeff, info, _ = optunity.minimize(f_full, coeff=[0, 1], num_evals=10)\n",
    "print(opt_coeff)\n",
    "print(\"call log\")\n",
    "for args, val in zip(info.call_log['args']['coeff'], info.call_log['values']):\n",
    "    print(str(args) + '\\t\\t' + str(val))"
   ]
  },
  {
   "cell_type": "markdown",
   "metadata": {},
   "source": [
    "## Cross-validation with scikit-learn   <a id=cv-sklearn></a>"
   ]
  },
  {
   "cell_type": "markdown",
   "metadata": {},
   "source": [
    "In this example we will show how to use cross-validation methods that are provided by scikit-learn in conjunction with Optunity. To do this we provide Optunity with the folds that scikit-learn produces in a specific format.\n",
    "\n",
    "In supervised learning datasets often have unbalanced labels. When performing cross-validation with unbalanced data it is good practice to preserve the percentage of samples for each class across folds. To achieve this label balance we will use <a href=\"http://scikit-learn.org/stable/modules/generated/sklearn.cross_validation.StratifiedKFold.html\">StratifiedKFold</a>."
   ]
  },
  {
   "cell_type": "code",
   "execution_count": 17,
   "metadata": {
    "collapsed": false
   },
   "outputs": [
    {
     "name": "stdout",
     "output_type": "stream",
     "text": [
      "\n",
      "train data:\t[16, 6, 4, 14, 0, 11, 19, 5, 9, 2, 12, 8, 7, 10, 18, 3]\n",
      "train labels:\t[1, 0, 1, 0, 1, 0, 0, 0, 0, 0, 1, 1, 0, 0, 0, 0]\n",
      "\n",
      "test data:\t[15, 1, 13, 17]\n",
      "test labels:\t[0, 0, 0, 0]\n",
      "\n",
      "\n",
      "train data:\t[15, 1, 13, 17, 0, 11, 19, 5, 9, 2, 12, 8, 7, 10, 18, 3]\n",
      "train labels:\t[0, 0, 0, 0, 1, 0, 0, 0, 0, 0, 1, 1, 0, 0, 0, 0]\n",
      "\n",
      "test data:\t[16, 6, 4, 14]\n",
      "test labels:\t[1, 0, 1, 0]\n",
      "\n",
      "\n",
      "train data:\t[15, 1, 13, 17, 16, 6, 4, 14, 9, 2, 12, 8, 7, 10, 18, 3]\n",
      "train labels:\t[0, 0, 0, 0, 1, 0, 1, 0, 0, 0, 1, 1, 0, 0, 0, 0]\n",
      "\n",
      "test data:\t[0, 11, 19, 5]\n",
      "test labels:\t[1, 0, 0, 0]\n",
      "\n",
      "\n",
      "train data:\t[15, 1, 13, 17, 16, 6, 4, 14, 0, 11, 19, 5, 7, 10, 18, 3]\n",
      "train labels:\t[0, 0, 0, 0, 1, 0, 1, 0, 1, 0, 0, 0, 0, 0, 0, 0]\n",
      "\n",
      "test data:\t[9, 2, 12, 8]\n",
      "test labels:\t[0, 0, 1, 1]\n",
      "\n",
      "\n",
      "train data:\t[15, 1, 13, 17, 16, 6, 4, 14, 0, 11, 19, 5, 9, 2, 12, 8]\n",
      "train labels:\t[0, 0, 0, 0, 1, 0, 1, 0, 1, 0, 0, 0, 0, 0, 1, 1]\n",
      "\n",
      "test data:\t[7, 10, 18, 3]\n",
      "test labels:\t[0, 0, 0, 0]\n",
      "\n"
     ]
    },
    {
     "data": {
      "text/plain": [
       "0.0"
      ]
     },
     "execution_count": 17,
     "metadata": {},
     "output_type": "execute_result"
    }
   ],
   "source": [
    "data = list(range(20))\n",
    "labels = [1 if i%4==0 else 0 for i in range(20)]\n",
    "\n",
    "@optunity.cross_validated(x=data, y=labels, num_folds=5)\n",
    "def unbalanced_folds(x_train, y_train, x_test, y_test):\n",
    "    print(\"\")\n",
    "    print(\"train data:\\t\" + str(x_train) + \"\\ntrain labels:\\t\" + str(y_train)) + '\\n'\n",
    "    print(\"test data:\\t\" + str(x_test) + \"\\ntest labels:\\t\" + str(y_test)) + '\\n'\n",
    "    return 0.0\n",
    "\n",
    "unbalanced_folds()"
   ]
  },
  {
   "cell_type": "markdown",
   "metadata": {},
   "source": [
    "Notice above how the test label sets have a varying number of postive samples, some have none, some have one, and some have two. "
   ]
  },
  {
   "cell_type": "code",
   "execution_count": 19,
   "metadata": {
    "collapsed": false
   },
   "outputs": [
    {
     "name": "stdout",
     "output_type": "stream",
     "text": [
      "\n",
      "train data:\t[4, 5, 6, 7, 8, 9, 10, 11, 12, 13, 14, 15, 16, 17, 18, 19]\n",
      "train labels:\t[1, 0, 0, 0, 1, 0, 0, 0, 1, 0, 0, 0, 1, 0, 0, 0]\n",
      "\n",
      "test data:\t[0, 1, 2, 3]\n",
      "test labels:\t[1, 0, 0, 0]\n",
      "\n",
      "\n",
      "train data:\t[0, 1, 2, 3, 8, 9, 10, 11, 12, 13, 14, 15, 16, 17, 18, 19]\n",
      "train labels:\t[1, 0, 0, 0, 1, 0, 0, 0, 1, 0, 0, 0, 1, 0, 0, 0]\n",
      "\n",
      "test data:\t[4, 5, 6, 7]\n",
      "test labels:\t[1, 0, 0, 0]\n",
      "\n",
      "\n",
      "train data:\t[0, 1, 2, 3, 4, 5, 6, 7, 12, 13, 14, 15, 16, 17, 18, 19]\n",
      "train labels:\t[1, 0, 0, 0, 1, 0, 0, 0, 1, 0, 0, 0, 1, 0, 0, 0]\n",
      "\n",
      "test data:\t[8, 9, 10, 11]\n",
      "test labels:\t[1, 0, 0, 0]\n",
      "\n",
      "\n",
      "train data:\t[0, 1, 2, 3, 4, 5, 6, 7, 8, 9, 10, 11, 16, 17, 18, 19]\n",
      "train labels:\t[1, 0, 0, 0, 1, 0, 0, 0, 1, 0, 0, 0, 1, 0, 0, 0]\n",
      "\n",
      "test data:\t[12, 13, 14, 15]\n",
      "test labels:\t[1, 0, 0, 0]\n",
      "\n",
      "\n",
      "train data:\t[0, 1, 2, 3, 4, 5, 6, 7, 8, 9, 10, 11, 12, 13, 14, 15]\n",
      "train labels:\t[1, 0, 0, 0, 1, 0, 0, 0, 1, 0, 0, 0, 1, 0, 0, 0]\n",
      "\n",
      "test data:\t[16, 17, 18, 19]\n",
      "test labels:\t[1, 0, 0, 0]\n",
      "\n"
     ]
    },
    {
     "data": {
      "text/plain": [
       "0.0"
      ]
     },
     "execution_count": 19,
     "metadata": {},
     "output_type": "execute_result"
    }
   ],
   "source": [
    "from sklearn.cross_validation import StratifiedKFold\n",
    "\n",
    "stratified_5folds = StratifiedKFold(labels, n_folds=5)\n",
    "folds = [[list(test) for train, test in stratified_5folds]]\n",
    "\n",
    "@optunity.cross_validated(x=data, y=labels, folds=folds, num_folds=5)\n",
    "def balanced_folds(x_train, y_train, x_test, y_test):\n",
    "    print(\"\")\n",
    "    print(\"train data:\\t\" + str(x_train) + \"\\ntrain labels:\\t\" + str(y_train)) + '\\n'\n",
    "    print(\"test data:\\t\" + str(x_test) + \"\\ntest labels:\\t\" + str(y_test)) + '\\n'\n",
    "    return 0.0\n",
    "\n",
    "balanced_folds()"
   ]
  },
  {
   "cell_type": "markdown",
   "metadata": {},
   "source": [
    "Now all of our train sets have four positive samples and our test sets have one positive sample.\n",
    "\n",
    "To use predetermined folds, place a list of the test sample idices into a list. And then insert that list into another list. Why so many nested lists? Because you can perform multiple cross-validation runs by setting num_iter appropriately and then append num_iter lists of test samples to the outer most list. Note that the test samples for a given fold are the idicies that you provide and then the train samples for that fold are all of the indices from all other test sets joined together. If not done carefully this may lead to duplicated samples in a train set and also samples that fall in both train and test sets of a fold if a datapoint is in multiple folds' test sets. "
   ]
  },
  {
   "cell_type": "code",
   "execution_count": 3,
   "metadata": {
    "collapsed": false
   },
   "outputs": [
    {
     "name": "stdout",
     "output_type": "stream",
     "text": [
      "\n",
      "train data:\t[1, 4, 2, 5]\t train labels:\t[True, False, True, False]\n",
      "test data:\t[0, 3]\t\t test labels:\t[True, False]\n",
      "\n",
      "train data:\t[0, 3, 2, 5]\t train labels:\t[True, False, True, False]\n",
      "test data:\t[1, 4]\t\t test labels:\t[True, False]\n",
      "\n",
      "train data:\t[0, 3, 1, 4]\t train labels:\t[True, False, True, False]\n",
      "test data:\t[2, 5]\t\t test labels:\t[True, False]\n",
      "\n",
      "train data:\t[1, 4, 0, 3]\t train labels:\t[True, False, True, False]\n",
      "test data:\t[0, 5]\t\t test labels:\t[True, False]\n",
      "\n",
      "train data:\t[0, 5, 0, 3]\t train labels:\t[True, False, True, False]\n",
      "test data:\t[1, 4]\t\t test labels:\t[True, False]\n",
      "\n",
      "train data:\t[0, 5, 1, 4]\t train labels:\t[True, False, True, False]\n",
      "test data:\t[0, 3]\t\t test labels:\t[True, False]\n"
     ]
    },
    {
     "data": {
      "text/plain": [
       "0.0"
      ]
     },
     "execution_count": 3,
     "metadata": {},
     "output_type": "execute_result"
    }
   ],
   "source": [
    "data = list(range(6))\n",
    "labels = [True] * 3 + [False] * 3\n",
    "\n",
    "fold1 = [[0, 3], [1, 4], [2, 5]]\n",
    "fold2 = [[0, 5], [1, 4], [0, 3]] # notice what happens when the indices are not unique\n",
    "folds = [fold1, fold2]\n",
    "\n",
    "@optunity.cross_validated(x=data, y=labels, folds=folds, num_folds=3, num_iter=2)\n",
    "def multiple_iters(x_train, y_train, x_test, y_test):\n",
    "    print(\"\")\n",
    "    print(\"train data:\\t\" + str(x_train) + \"\\t train labels:\\t\" + str(y_train))\n",
    "    print(\"test data:\\t\" + str(x_test) + \"\\t\\t test labels:\\t\" + str(y_test))\n",
    "    return 0.0\n",
    "\n",
    "multiple_iters()"
   ]
  },
  {
   "cell_type": "code",
   "execution_count": null,
   "metadata": {
    "collapsed": true
   },
   "outputs": [],
   "source": []
  }
 ],
 "metadata": {
  "kernelspec": {
   "display_name": "Python 2",
   "language": "python",
   "name": "python2"
  },
  "language_info": {
   "codemirror_mode": {
    "name": "ipython",
    "version": 2
   },
   "file_extension": ".py",
   "mimetype": "text/x-python",
   "name": "python",
   "nbconvert_exporter": "python",
   "pygments_lexer": "ipython2",
   "version": "2.7.5"
  }
 },
 "nbformat": 4,
 "nbformat_minor": 0
}
